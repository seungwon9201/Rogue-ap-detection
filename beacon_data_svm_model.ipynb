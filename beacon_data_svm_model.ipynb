import pandas as pd
import joblib
from sklearn.svm import SVC
from sklearn.model_selection import train_test_split
from sklearn.metrics import accuracy_score, precision_score, recall_score, f1_score

# CSV 파일 불러오기
df = pd.read_csv(r'C:\Users\kjmkj\OneDrive\Documents\카카오톡 받은 파일\beacon_features (6).csv')

# SSID 값에 따른 라벨링 작업
df['label'] = df['SSID'].apply(lambda x: 0 if x in ['hereIam', 'SoHot', 'NotStarbucks', 'HappySunday', 'notKisia'] else 1)

# 'Supported Rates' 값에서 ','로 나눈 후 개수 세기
df['Count'] = df['Supported Rates'].apply(lambda x: len(x.split(',')) if pd.notna(x) else 0)

# 'Encryption' 값 처리 (Open: 0, 그 외: 1)
df['Encryption'] = df['Encryption'].apply(lambda x: 0 if x == 'Open' else 1)

# 분석에 필요하지 않은 컬럼 제거
df2 = df.drop(['Supported Rates', 'Beacon Interval', 'Vendor OUI', 'SSID', 'BSSID'], axis=1)

# 데이터셋 나누기
X = df2.drop('label', axis=1)
y = df2['label']
X_train, X_test, y_train, y_test = train_test_split(X, y, test_size=0.2, random_state=42)

# SVM 학습
clf = SVC()
clf.fit(X_train, y_train)

# 예측 및 정확도 계산
y_pred = clf.predict(X_test)
accuracy = accuracy_score(y_test, y_pred)
print("Accuracy:", accuracy)

# 추가적인 성능 지표 계산
precision = precision_score(y_test, y_pred, average='weighted')
recall = recall_score(y_test, y_pred, average='weighted')
f1 = f1_score(y_test, y_pred, average='weighted')

print("Precision:", precision)
print("Recall:", recall)
print("F1-score:", f1)

# 모델 저장
model_path = r'C:\Users\kjmkj\OneDrive\Desktop\model\model.pkl'
joblib.dump(clf, model_path)
print(f"모델이 {model_path}에 저장되었습니다.")
